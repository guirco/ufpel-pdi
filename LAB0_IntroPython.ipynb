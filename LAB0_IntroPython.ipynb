{
  "cells": [
    {
      "cell_type": "markdown",
      "metadata": {},
      "source": [
        "# LAB0 — Introdução prática ao ambiente Python para PDI\n",
        "\n",
        "Disciplina: **Processamento Digital de Imagens (PDI)**  \n",
        "Formato: *Notebook Google Colab* (mas funciona localmente com Jupyter)  \n",
        "Objetivo: ambientar o aluno no ecossistema Python e revisar operações matriciais e operações básicas com imagens.\n",
        "\n",
        "**Conteúdos desta prática**\n",
        "- Configuração do ambiente (Colab/Jupyter) e bibliotecas (`numpy`, `matplotlib`, `scikit-image`, `opencv-python`, `imageio`).\n",
        "- Operações com vetores e matrizes (criação, slicing, broadcasting, álgebra linear).\n",
        "- Leitura de uma imagem PNG, exibição com Matplotlib, inspeção de `shape`/`dtype`.\n",
        "- Separação e visualização de canais de cor (R, G, B).\n",
        "- Salvamento de imagens geradas.\n",
        "- Mini-desafios para fixação.\n"
      ]
    },
    {
      "cell_type": "markdown",
      "metadata": {},
      "source": [
        "## 1) Configuração rápida (Colab ou local)\n",
        "\n",
        "### Em **Google Colab**:\n",
        "- Basta executar a célula abaixo; ela instalará as bibliotecas necessárias.\n",
        "- Para enviar/baixar arquivos, use o painel lateral do Colab ou `files.upload()`.\n",
        "\n",
        "### Em **Jupyter local** (Anaconda/Miniconda):\n",
        "```bash\n",
        "conda create -n pdi python=3.11 -y\n",
        "conda activate pdi\n",
        "pip install numpy matplotlib scikit-image opencv-python imageio\n",
        "jupyter lab\n",
        "```\n"
      ]
    },
    {
      "cell_type": "code",
      "metadata": {
        "id": "install"
      },
      "execution_count": null,
      "outputs": [],
      "source": [
        "# Se estiver no Colab, descomente a linha abaixo para instalar dependências.\n",
        "# (Executar uma única vez. Pode levar ~1-2 min.)\n",
        "# !pip -q install numpy matplotlib scikit-image opencv-python imageio\n",
        "\n",
        "import sys, platform\n",
        "print(\"Python:\", sys.version.split()[0], \"| Plataforma:\", platform.platform())"
      ]
    },
    {
      "cell_type": "markdown",
      "metadata": {},
      "source": [
        "## 2) Imports e verificação de versões\n",
        "Rodar a célula para garantir que tudo está OK."
      ]
    },
    {
      "cell_type": "code",
      "metadata": {
        "id": "imports"
      },
      "execution_count": null,
      "outputs": [],
      "source": [
        "import numpy as np\n",
        "import matplotlib.pyplot as plt\n",
        "from skimage import io, color, data, img_as_ubyte\n",
        "import imageio.v2 as imageio\n",
        "import cv2\n",
        "\n",
        "print(\"NumPy:\", np.__version__)\n",
        "print(\"Matplotlib:\", plt.matplotlib.__version__)\n",
        "import skimage, imageio\n",
        "print(\"scikit-image:\", skimage.__version__)\n",
        "print(\"imageio:\", imageio.__version__)\n",
        "print(\"OpenCV:\", cv2.__version__)"
      ]
    },
    {
      "cell_type": "markdown",
      "metadata": {},
      "source": [
        "## 3) Operações fundamentais com vetores e matrizes\n",
        "Criação, *slicing*, *broadcasting* e operações de álgebra linear."
      ]
    },
    {
      "cell_type": "code",
      "metadata": {
        "id": "arrays"
      },
      "execution_count": null,
      "outputs": [],
      "source": [
        "A = np.array([[1,2,3],[4,5,6],[7,8,9]], dtype=np.int32)\n",
        "B = A.T\n",
        "print(\"A=\\n\", A)\n",
        "print(\"B=A.T=\\n\", B)\n",
        "print(\"diag(A)=\", np.diag(A))\n",
        "print(\"sum(A)=\", A.sum())\n",
        "print(\"sum por eixo 0 (colunas)=\", A.sum(axis=0))\n",
        "print(\"sum por eixo 1 (linhas)=\", A.sum(axis=1))\n",
        "\n",
        "# Indexação, slicing, operador 'end' equivalente usando -1\n",
        "print(\"A[1,2]=\", A[1,2])  # segunda linha, terceira coluna\n",
        "print(\"A[1,:]=\", A[1,:])  # segunda linha completa\n",
        "print(\"A[:, -1]=\", A[:, -1])  # última coluna\n",
        "\n",
        "# Broadcasting e operações elemento a elemento\n",
        "x = np.arange(1, 11)\n",
        "table = np.column_stack([x, x**2, x**3])\n",
        "print(\"\\nTabela n, n^2, n^3:\\n\", table)\n",
        "\n",
        "# Álgebra linear\n",
        "M = np.array([[1,2,3],[4,5,6],[7,8,9]], dtype=float)\n",
        "v = np.array([1, 1, 1], dtype=float)\n",
        "print(\"\\nM@v=\", M @ v)  # produto matriz-vetor\n",
        "print(\"det(M)=\", np.linalg.det(M))\n",
        "print(\"rank(M)=\", np.linalg.matrix_rank(M))"
      ]
    },
    {
      "cell_type": "markdown",
      "metadata": {},
      "source": [
        "### Desafio 1\n",
        "Usando a matriz `A` definida acima, **substitua todos os valores iguais a 5 por 0** (dica: `np.where` ou indexação booleana)."
      ]
    },
    {
      "cell_type": "code",
      "metadata": {
        "id": "desafio1"
      },
      "execution_count": null,
      "outputs": [],
      "source": [
        "# Sua solução aqui\n",
        "A2 = A.copy()\n",
        "A2[A2 == 5] = 0\n",
        "print(A2)"
      ]
    },
    {
      "cell_type": "markdown",
      "metadata": {},
      "source": [
        "## 4) Lendo e exibindo uma imagem PNG\n",
        "Usaremos uma imagem de exemplo do `scikit-image` (astronauta). Em um fluxo real, você pode carregar do Google Drive, fazer upload via Colab ou ler de um caminho local."
      ]
    },
    {
      "cell_type": "code",
      "metadata": {
        "id": "read_show_image"
      },
      "execution_count": null,
      "outputs": [],
      "source": [
        "# Carrega uma imagem de exemplo (colorida, RGB)\n",
        "img = data.astronaut()  # shape (512, 512, 3), dtype uint8\n",
        "print(\"shape:\", img.shape, \"dtype:\", img.dtype)\n",
        "\n",
        "# Exibe com Matplotlib (atenção: imshow espera RGB com valores 0..255 (uint8) ou 0..1 (float))\n",
        "plt.figure(figsize=(4,4))\n",
        "plt.imshow(img)\n",
        "plt.title(\"Imagem original (RGB)\")\n",
        "plt.axis('off')\n",
        "plt.show()"
      ]
    },
    {
      "cell_type": "markdown",
      "metadata": {},
      "source": [
        "## 5) Separando canais de cor (R, G, B)\n",
        "Em `numpy`, um array RGB tem shape `(altura, largura, 3)`. O último eixo são os canais."
      ]
    },
    {
      "cell_type": "code",
      "metadata": {
        "id": "channels"
      },
      "execution_count": null,
      "outputs": [],
      "source": [
        "R = img[:, :, 0]\n",
        "G = img[:, :, 1]\n",
        "B = img[:, :, 2]\n",
        "\n",
        "fig, axs = plt.subplots(1, 3, figsize=(12,4))\n",
        "axs[0].imshow(R, cmap='gray')\n",
        "axs[0].set_title('Canal R')\n",
        "axs[0].axis('off')\n",
        "axs[1].imshow(G, cmap='gray')\n",
        "axs[1].set_title('Canal G')\n",
        "axs[1].axis('off')\n",
        "axs[2].imshow(B, cmap='gray')\n",
        "axs[2].set_title('Canal B')\n",
        "axs[2].axis('off')\n",
        "plt.show()\n",
        "\n",
        "# Visualizar imagem usando apenas um canal repetido (ex.: vermelho)\n",
        "only_red = np.zeros_like(img)\n",
        "only_red[:,:,0] = R\n",
        "plt.figure(figsize=(4,4))\n",
        "plt.imshow(only_red)\n",
        "plt.title(\"Componente vermelha isolada (R)\")\n",
        "plt.axis('off')\n",
        "plt.show()"
      ]
    },
    {
      "cell_type": "markdown",
      "metadata": {},
      "source": [
        "### Dica\n",
        "OpenCV (`cv2`) lê imagens por padrão em **BGR**. Se usar `cv2.imread`, converta para RGB com `cv2.cvtColor(img, cv2.COLOR_BGR2RGB)` antes de exibir com Matplotlib."
      ]
    },
    {
      "cell_type": "code",
      "metadata": {
        "id": "opencv_read"
      },
      "execution_count": null,
      "outputs": [],
      "source": [
        "# Exemplo com OpenCV (imagem de exemplo salva e relida):\n",
        "tmp_path = \"astronaut.png\"\n",
        "io.imsave(tmp_path, img)  # salva em disco\n",
        "\n",
        "img_bgr = cv2.imread(tmp_path)           # BGR\n",
        "img_rgb = cv2.cvtColor(img_bgr, cv2.COLOR_BGR2RGB)\n",
        "\n",
        "plt.figure(figsize=(4,4))\n",
        "plt.imshow(img_rgb)\n",
        "plt.title(\"Lida com OpenCV (convertida BGR→RGB)\")\n",
        "plt.axis('off')\n",
        "plt.show()"
      ]
    },
    {
      "cell_type": "markdown",
      "metadata": {},
      "source": [
        "## 6) Conversões de cor rápidas (RGB↔Gray, RGB↔HSV)\n",
        "Algumas transformações úteis usando `scikit-image` e `OpenCV`."
      ]
    },
    {
      "cell_type": "code",
      "metadata": {
        "id": "color_conversions"
      },
      "execution_count": null,
      "outputs": [],
      "source": [
        "gray = color.rgb2gray(img)   # float64, range 0..1\n",
        "plt.figure(figsize=(4,4))\n",
        "plt.imshow(gray, cmap='gray')\n",
        "plt.title(\"RGB → Gray\")\n",
        "plt.axis('off')\n",
        "plt.show()\n",
        "\n",
        "hsv = color.rgb2hsv(img)\n",
        "fig, axs = plt.subplots(1,3, figsize=(12,4))\n",
        "labels = ['H (matiz)','S (saturação)','V (valor)']\n",
        "for i in range(3):\n",
        "    axs[i].imshow(hsv[:,:,i], cmap='gray')\n",
        "    axs[i].set_title(labels[i])\n",
        "    axs[i].axis('off')\n",
        "plt.show()"
      ]
    },
    {
      "cell_type": "markdown",
      "metadata": {},
      "source": [
        "## 7) Salvando imagens\n",
        "Atenção ao tipo e faixa de valores: use `img_as_ubyte` quando necessário."
      ]
    },
    {
      "cell_type": "code",
      "metadata": {
        "id": "save_images"
      },
      "execution_count": null,
      "outputs": [],
      "source": [
        "io.imsave(\"gray_uint8.png\", img_as_ubyte(gray))\n",
        "print(\"Arquivos salvos na pasta atual:\")\n",
        "import os\n",
        "for f in os.listdir():\n",
        "    if f.endswith('.png'):\n",
        "        print(\" -\", f)"
      ]
    },
    {
      "cell_type": "markdown",
      "metadata": {},
      "source": [
        "## 8) Mini-desafios\n",
        "1. Carregue **uma imagem sua** (PNG ou JPG) e repita o procedimento: exibir, mostrar `shape`/`dtype`, e visualizar os três canais separadamente.\n",
        "2. Zere o canal **G** (verde) e observe o efeito.\n",
        "3. Converta a imagem para **HSV** e visualize separadamente H, S e V. Qual canal melhor preserva a estrutura (bordas)?\n",
        "4. Gere uma nova imagem `montagem` empilhando horizontalmente os canais em escala de cinza (ex.: `[R | G | B]`).\n",
        "5. (Avançado) Crie uma função `equaliza_canal(img, canal)` que equaliza o histograma apenas do canal pedido (0, 1 ou 2) e retorna a imagem resultante."
      ]
    },
    {
      "cell_type": "markdown",
      "metadata": {},
      "source": [
        "---\n",
        "**Observação para entrega** (sugestão):\n",
        "- Submeter o `.ipynb` + export em **HTML** com resultado das células executadas;\n",
        "- Incluir uma pasta `data/` no repositório com as imagens de teste utilizadas.\n",
        "\n",
        "Boa prática!"
      ]
    }
  ],
  "metadata": {
    "kernelspec": {
      "display_name": "Python 3",
      "language": "python",
      "name": "python3"
    },
    "language_info": {
      "name": "python",
      "version": "3.11"
    },
    "colab": {
      "name": "LAB0_Intro_Python_PDI.ipynb",
      "provenance": [],
      "collapsed_sections": []
    }
  },
  "nbformat": 4,
  "nbformat_minor": 5
}
