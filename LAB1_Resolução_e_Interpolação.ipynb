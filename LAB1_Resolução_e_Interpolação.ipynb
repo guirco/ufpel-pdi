{
  "cells": [
    {
      "cell_type": "markdown",
      "metadata": {
        "id": "view-in-github",
        "colab_type": "text"
      },
      "source": [
        "<a href=\"https://colab.research.google.com/github/guirco/ufpel-pdi/blob/main/LAB1_Resolu%C3%A7%C3%A3o_e_Interpola%C3%A7%C3%A3o.ipynb\" target=\"_parent\"><img src=\"https://colab.research.google.com/assets/colab-badge.svg\" alt=\"Open In Colab\"/></a>"
      ]
    },
    {
      "cell_type": "markdown",
      "metadata": {
        "id": "7lBtuqJJDUTx"
      },
      "source": [
        "# LAB1 — Amostragem e quantização; resolução e interpolação.\n",
        "\n",
        "Disciplina: **Processamento Digital de Imagens (PDI)**  - UFPel  \n",
        "Professor: **Guilherme Corrêa**  \n",
        "Formato: *Notebook Google Colab*   \n",
        "Objetivo: ambientar o aluno no ecossistema Python e revisar operações matriciais e operações básicas com imagens.\n",
        "\n",
        "**Conteúdos desta prática**\n",
        "- Configuração do ambiente (Colab/Jupyter) e bibliotecas (`numpy`, `matplotlib`, `scikit-image`, `opencv-python`, `imageio`).\n",
        "- Operações com vetores e matrizes (criação, slicing, broadcasting, álgebra linear).\n",
        "- Leitura de uma imagem PNG, exibição com Matplotlib, inspeção de `shape`/`dtype`.\n",
        "- Separação e visualização de canais de cor (R, G, B).\n",
        "- Salvamento de imagens geradas.\n",
        "- Mini-desafios para fixação.\n"
      ],
      "id": "7lBtuqJJDUTx"
    },
    {
      "cell_type": "markdown",
      "metadata": {
        "id": "PE80dlgEDUT9"
      },
      "source": [
        "## 1) Configuração rápida (Colab ou local)\n",
        "\n",
        "### Em **Google Colab**:\n",
        "- Basta executar a célula abaixo; ela instalará as bibliotecas necessárias. Em geral, no Google Colab, esses pacotes já vêm pré-instalados, mas essa linha garante que todos estão presentes e atualizados.\n",
        "- Para enviar/baixar arquivos, use o painel lateral do Colab ou `files.upload()`.\n",
        "\n",
        "### Em **Jupyter local** (Anaconda/Miniconda):\n",
        "```bash\n",
        "conda create -n pdi python=3.11 -y\n",
        "conda activate pdi\n",
        "pip install numpy matplotlib scikit-image opencv-python imageio\n",
        "jupyter lab\n",
        "```\n"
      ],
      "id": "PE80dlgEDUT9"
    },
    {
      "cell_type": "code",
      "metadata": {
        "id": "install"
      },
      "execution_count": null,
      "outputs": [],
      "source": [
        "# Se estiver no Colab, descomente a linha abaixo para instalar dependências.\n",
        "# (Executar uma única vez. Pode levar ~1-2 min.)\n",
        "!pip -q install numpy matplotlib scikit-image opencv-python imageio imageio[pyav]\n",
        "\n",
        "# Pacotes instalados:\n",
        "# numpy → operações numéricas e matriciais.\n",
        "# matplotlib → visualização e gráficos.\n",
        "# scikit-image → funções de processamento de imagens (filtros, segmentação, transformações).\n",
        "# opencv-python (cv2) → biblioteca muito usada em visão computacional.\n",
        "# imageio → leitura e escrita de imagens em vários formatos.\n",
        "\n",
        "import sys, platform\n",
        "print(\"Python:\", sys.version.split()[0], \"| Plataforma:\", platform.platform())"
      ],
      "id": "install"
    },
    {
      "cell_type": "markdown",
      "metadata": {
        "id": "LN4P9SNIDUUE"
      },
      "source": [
        "## 2) Imports e verificação de versões\n",
        "Rodar a célula para garantir que tudo está OK."
      ],
      "id": "LN4P9SNIDUUE"
    },
    {
      "cell_type": "code",
      "metadata": {
        "id": "imports"
      },
      "execution_count": null,
      "outputs": [],
      "source": [
        "import numpy as np\n",
        "import matplotlib.pyplot as plt\n",
        "from skimage import io, color, data, img_as_ubyte\n",
        "import imageio.v2 as imageio\n",
        "import cv2\n",
        "import os\n",
        "\n",
        "print(\"NumPy:\", np.__version__)\n",
        "print(\"Matplotlib:\", plt.matplotlib.__version__)\n",
        "import skimage, imageio\n",
        "print(\"scikit-image:\", skimage.__version__)\n",
        "print(\"imageio:\", imageio.__version__)\n",
        "print(\"OpenCV:\", cv2.__version__)"
      ],
      "id": "imports"
    },
    {
      "cell_type": "markdown",
      "metadata": {
        "id": "3xC7XGNFDUUG"
      },
      "source": [
        "## 3) Operações fundamentais com vetores e matrizes\n",
        "Criação, *slicing*, *broadcasting* e operações de álgebra linear."
      ],
      "id": "3xC7XGNFDUUG"
    },
    {
      "cell_type": "code",
      "metadata": {
        "id": "arrays"
      },
      "execution_count": null,
      "outputs": [],
      "source": [
        "A = np.array([[1,2,3],[4,5,6],[7,8,9]], dtype=np.int32)\n",
        "B = A.T\n",
        "print(\"A=\\n\", A)\n",
        "print(\"B=A.T=\\n\", B)\n",
        "print(\"diag(A)=\", np.diag(A))\n",
        "print(\"sum(A)=\", A.sum())\n",
        "print(\"sum por eixo 0 (colunas)=\", A.sum(axis=0))\n",
        "print(\"sum por eixo 1 (linhas)=\", A.sum(axis=1))\n",
        "\n",
        "# Indexação, slicing, operador 'end' equivalente usando -1\n",
        "print(\"A[1,2]=\", A[1,2])  # segunda linha, terceira coluna\n",
        "print(\"A[1,:]=\", A[1,:])  # segunda linha completa\n",
        "print(\"A[:, -1]=\", A[:, -1])  # última coluna\n",
        "\n",
        "# Broadcasting e operações elemento a elemento\n",
        "x = np.arange(1, 11)\n",
        "table = np.column_stack([x, x**2, x**3])\n",
        "print(\"\\nTabela n, n^2, n^3:\\n\", table)\n",
        "\n",
        "# Álgebra linear\n",
        "M = np.array([[1,2,3],[4,5,6],[7,8,9]], dtype=float)\n",
        "v = np.array([1, 1, 1], dtype=float)\n",
        "print(\"\\nM@v=\", M @ v)  # produto matriz-vetor"
      ],
      "id": "arrays"
    },
    {
      "cell_type": "markdown",
      "metadata": {
        "id": "DVcOr9IyDUUL"
      },
      "source": [
        "### Desafio\n",
        "Usando a matriz `A` definida acima, **substitua todos os valores iguais a 5 por 0** (dica: `np.where` ou indexação booleana)."
      ],
      "id": "DVcOr9IyDUUL"
    },
    {
      "cell_type": "code",
      "metadata": {
        "id": "desafio1"
      },
      "execution_count": null,
      "outputs": [],
      "source": [
        "# Solução\n",
        "A2 = A.copy()\n",
        "A2[A2 == 5] = 0\n",
        "print(A2)"
      ],
      "id": "desafio1"
    },
    {
      "cell_type": "markdown",
      "metadata": {
        "id": "ztPzztJZDUUO"
      },
      "source": [
        "## 4) Lendo e exibindo uma imagem PNG\n",
        "Usaremos uma imagem de exemplo do `scikit-image` (astronauta), mas se quiser você pode carregar uma imagem PNG do Google Drive, fazer upload via Colab ou ler de um caminho local."
      ],
      "id": "ztPzztJZDUUO"
    },
    {
      "cell_type": "code",
      "metadata": {
        "id": "read_show_image"
      },
      "execution_count": null,
      "outputs": [],
      "source": [
        "# Carrega uma imagem de exemplo (colorida, RGB)\n",
        "img = data.astronaut()  # shape (512, 512, 3), dtype uint8\n",
        "print(\"shape:\", img.shape, \"dtype:\", img.dtype)\n",
        "\n",
        "# Exibe com Matplotlib (atenção: imshow espera RGB com valores 0..255 (uint8) ou 0..1 (float))\n",
        "plt.figure(figsize=(4,4))\n",
        "plt.imshow(img)\n",
        "plt.title(\"Astronaut (RGB)\")\n",
        "plt.axis('off')\n",
        "plt.show()"
      ],
      "id": "read_show_image"
    },
    {
      "cell_type": "code",
      "source": [
        "# Carrega uma imagem de exemplo (colorida, RGB)\n",
        "import imageio.v2 as imageio\n",
        "url = \"https://raw.githubusercontent.com/guirco/ufpel-pdi/main/data/tuyuka.png\"\n",
        "img2 = imageio.imread(url)\n",
        "print(\"shape:\", img2.shape, \"dtype:\", img2.dtype)\n",
        "\n",
        "# Exibe com Matplotlib (atenção: imshow espera RGB com valores 0..255 (uint8) ou 0..1 (float))\n",
        "plt.figure(figsize=(4,4))\n",
        "plt.imshow(img2)\n",
        "plt.title(\"Tuyuka (RGB)\")\n",
        "plt.axis('off')\n",
        "plt.show()"
      ],
      "metadata": {
        "id": "pYyuDhpePdb-"
      },
      "id": "pYyuDhpePdb-",
      "execution_count": null,
      "outputs": []
    },
    {
      "cell_type": "markdown",
      "metadata": {
        "id": "PRvfYwh7DUUQ"
      },
      "source": [
        "## 5) Separando canais de cor (R, G, B)\n",
        "Em `numpy`, um array RGB tem shape `(altura, largura, 3)`. O último eixo são os canais."
      ],
      "id": "PRvfYwh7DUUQ"
    },
    {
      "cell_type": "code",
      "metadata": {
        "id": "channels"
      },
      "execution_count": null,
      "outputs": [],
      "source": [
        "R = img2[:, :, 0]\n",
        "G = img2[:, :, 1]\n",
        "B = img2[:, :, 2]\n",
        "\n",
        "fig, axs = plt.subplots(1, 4, figsize=(16,4))\n",
        "axs[0].imshow(img2)\n",
        "axs[0].set_title('Todos Canais')\n",
        "axs[0].axis('off')\n",
        "axs[1].imshow(R, cmap='gray')\n",
        "axs[1].set_title('Canal R')\n",
        "axs[1].axis('off')\n",
        "axs[2].imshow(G, cmap='gray')\n",
        "axs[2].set_title('Canal G')\n",
        "axs[2].axis('off')\n",
        "axs[3].imshow(B, cmap='gray')\n",
        "axs[3].set_title('Canal B')\n",
        "axs[3].axis('off')\n",
        "plt.show()\n",
        "\n",
        "# Visualizar imagem usando apenas um canal repetido (ex.: vermelho)\n",
        "only_red = np.zeros_like(img2)\n",
        "only_red[:,:,0] = R\n",
        "plt.figure(figsize=(4,4))\n",
        "plt.imshow(only_red)\n",
        "plt.title(\"Componente vermelha isolada (R)\")\n",
        "plt.axis('off')\n",
        "plt.show()\n",
        "io.imsave(\"red_tuyuka.png\", only_red)  # salva em disco, no arquivo \"red_astronaut.png\""
      ],
      "id": "channels"
    },
    {
      "cell_type": "markdown",
      "source": [
        "💡 **Por que usamos PNG nestes exemplos?**\n",
        "\n",
        "- O formato **PNG** é **lossless** (compressão sem perdas), preservando todos os pixels originais.  \n",
        "- Permite trabalhar tanto com imagens **coloridas (RGB)** quanto em **tons de cinza**.  \n",
        "- É amplamente suportado por bibliotecas como `matplotlib`, `scikit-image`, `opencv` e `imageio`.  \n",
        "- É um formato **aberto e livre de patentes**, diferente de alguns codecs proprietários.  \n",
        "\n",
        "👉 Por isso, neste LAB e nos seguintes usaremos PNG como formato de teste — garantindo fidelidade e portabilidade.\n"
      ],
      "metadata": {
        "id": "orfAGXhyK8G4"
      },
      "id": "orfAGXhyK8G4"
    },
    {
      "cell_type": "markdown",
      "metadata": {
        "id": "eRcJnRJgDUUS"
      },
      "source": [
        "### Dica\n",
        "OpenCV (`cv2`) lê imagens por padrão em **BGR**. Se usar `cv2.imread`, converta para RGB com `cv2.cvtColor(img, cv2.COLOR_BGR2RGB)` antes de exibir com Matplotlib."
      ],
      "id": "eRcJnRJgDUUS"
    },
    {
      "cell_type": "code",
      "metadata": {
        "id": "opencv_read"
      },
      "execution_count": null,
      "outputs": [],
      "source": [
        "# Exemplo com OpenCV (imagem de exemplo salva e relida):\n",
        "tmp_path = \"astronaut.png\"\n",
        "io.imsave(tmp_path, img)  # salva em disco, no arquivo \"astronaut.png\"\n",
        "\n",
        "img_bgr = cv2.imread(tmp_path)           # lendo a imagem com OpenCV (formato BGR)\n",
        "\n",
        "plt.figure(figsize=(4,4))\n",
        "plt.imshow(img_bgr)\n",
        "plt.title(\"Lida com OpenCV (BGR)\")\n",
        "plt.axis('off')\n",
        "plt.show()\n",
        "\n",
        "img_rgb = cv2.cvtColor(img_bgr, cv2.COLOR_BGR2RGB)     # convertendo a imagem para RGB\n",
        "\n",
        "plt.figure(figsize=(4,4))\n",
        "plt.imshow(img_rgb)\n",
        "plt.title(\"Lida com OpenCV (BGR→RGB)\")\n",
        "plt.axis('off')\n",
        "plt.show()"
      ],
      "id": "opencv_read"
    },
    {
      "cell_type": "markdown",
      "metadata": {
        "id": "nVQBOssvDUUU"
      },
      "source": [
        "## 6) Conversões de cor rápidas (RGB↔Gray, RGB↔HSV)\n",
        "Algumas transformações úteis usando `scikit-image` e `OpenCV`."
      ],
      "id": "nVQBOssvDUUU"
    },
    {
      "cell_type": "code",
      "metadata": {
        "id": "color_conversions"
      },
      "execution_count": null,
      "outputs": [],
      "source": [
        "gray = color.rgb2gray(img)   # float64, range 0..1\n",
        "plt.figure(figsize=(4,4))\n",
        "plt.imshow(gray, cmap='gray')\n",
        "plt.title(\"RGB → Gray\")\n",
        "plt.axis('off')\n",
        "plt.show()\n",
        "\n",
        "hsv = color.rgb2hsv(img)\n",
        "fig, axs = plt.subplots(1,3, figsize=(12,4))\n",
        "labels = ['H (matiz)','S (saturação)','V (valor)']\n",
        "for i in range(3):\n",
        "    axs[i].imshow(hsv[:,:,i], cmap='gray')\n",
        "    axs[i].set_title(labels[i])\n",
        "    axs[i].axis('off')\n",
        "plt.show()"
      ],
      "id": "color_conversions"
    },
    {
      "cell_type": "markdown",
      "metadata": {
        "id": "2flKdUNDDUUW"
      },
      "source": [
        "## 7) Salvando imagens\n",
        "Atenção ao tipo e faixa de valores: use `img_as_ubyte` quando necessário."
      ],
      "id": "2flKdUNDDUUW"
    },
    {
      "cell_type": "code",
      "metadata": {
        "id": "save_images"
      },
      "execution_count": null,
      "outputs": [],
      "source": [
        "io.imsave(\"gray_uint8.png\", img_as_ubyte(gray))\n",
        "print(\"Arquivos salvos na pasta atual:\")\n",
        "print(os.getcwd())\n",
        "import os\n",
        "for f in os.listdir():\n",
        "    if f.endswith('.png'):\n",
        "        print(\" -\", f)"
      ],
      "id": "save_images"
    },
    {
      "cell_type": "markdown",
      "metadata": {
        "id": "mltaC15UDUUX"
      },
      "source": [
        "## 8) Mini-desafios\n",
        "1. Carregue **uma imagem sua** (PNG ou JPG) e repita o procedimento: exibir, mostrar `shape`/`dtype`, e visualizar os três canais de cores separadamente.\n",
        "2. Exiba o histograma de cada um dos canais de cores.\n",
        "3. Zere o canal **G** (verde) e observe o efeito.\n",
        "4. Multiplique todos os valores do canal **B** por 0,5 e observe o efeito.\n",
        "5. Salve novamente a imagem em um arquivo PNG."
      ],
      "id": "mltaC15UDUUX"
    },
    {
      "cell_type": "markdown",
      "metadata": {
        "id": "eSbVkOWRbSCL"
      },
      "source": [
        "## 9) 🦋 Tarefa — Borboleta Mangueirense\n",
        "\n",
        "1. Carregue a imagem **[borboleta.png](https://raw.githubusercontent.com/guirco/ufpel-pdi/main/data/borboleta.png)**.\n",
        "2. Exiba a imagem original, mostrando também `shape` e `dtype`.  \n",
        "3. Visualize separadamente os três canais de cor (R, G, B).  \n",
        "4. Modifique as cores da borboleta de forma que ela seja transformada em uma **borboleta mangueirense** (verde & rosa).  \n",
        "   - Utilize como referência os valores RGB:  \n",
        "     - **Laranja** → (246, 127, 0)  \n",
        "     - **Bege** → (255, 246, 227)  \n",
        "     - **Verde** → (34, 139, 34)  \n",
        "     - **Rosa** → (255, 20, 147)  \n",
        "5. Salve novamente a imagem processada em formato **PNG**.  \n",
        "\n",
        "💡 *Dica:* Use `io.imread()` para carregar, `plt.imshow()` para exibir, manipule os canais com `numpy`, e depois salve com `io.imsave()`.\n"
      ],
      "id": "eSbVkOWRbSCL"
    }
  ],
  "metadata": {
    "kernelspec": {
      "display_name": "Python 3",
      "language": "python",
      "name": "python3"
    },
    "language_info": {
      "name": "python",
      "version": "3.11"
    },
    "colab": {
      "provenance": [],
      "include_colab_link": true
    }
  },
  "nbformat": 4,
  "nbformat_minor": 5
}