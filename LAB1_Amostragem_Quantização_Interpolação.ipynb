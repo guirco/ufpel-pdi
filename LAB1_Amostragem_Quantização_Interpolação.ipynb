{
  "cells": [
    {
      "cell_type": "markdown",
      "metadata": {
        "id": "view-in-github",
        "colab_type": "text"
      },
      "source": [
        "<a href=\"https://colab.research.google.com/github/guirco/ufpel-pdi/blob/main/LAB1_Amostragem_Quantiza%C3%A7%C3%A3o_Interpola%C3%A7%C3%A3o.ipynb\" target=\"_parent\"><img src=\"https://colab.research.google.com/assets/colab-badge.svg\" alt=\"Open In Colab\"/></a>"
      ]
    },
    {
      "cell_type": "markdown",
      "metadata": {
        "id": "0RZi1pak4hrh"
      },
      "source": [
        "# LAB1 — Amostragem, Quantização, Resolução e Interpolação\n",
        "\n",
        "Este notebook introduz e pratica os conceitos de **amostragem espacial**, **quantização**, **resolução** e **interpolação**.\n",
        "\n",
        "**Objetivos**\n",
        "- Carregar e visualizar imagens em escala de cinza e RGB.\n",
        "- Aplicar **amostragem** (redução da resolução espacial) com e sem anti-aliasing.\n",
        "- Aplicar **quantização** (redução do número de níveis/bit-depth) e avaliar distorção (PSNR).\n",
        "- Implementar **interpolação** por **vizinho mais próximo** e **bilinear**; usar **bicúbica** como referência.\n",
        "- Discutir a relação entre **resolução**, **amostragem** e **interpolação**."
      ],
      "id": "0RZi1pak4hrh"
    },
    {
      "cell_type": "markdown",
      "metadata": {
        "id": "IqVZ7y2m4hri"
      },
      "source": [
        "## 0) Ambiente e bibliotecas\n",
        "Se estiver no Colab, rode a célula de instalação uma única vez."
      ],
      "id": "IqVZ7y2m4hri"
    },
    {
      "cell_type": "code",
      "metadata": {
        "id": "install"
      },
      "execution_count": null,
      "outputs": [],
      "source": [
        "# Se necessário no Colab, descomente a linha abaixo:\n",
        "#!pip -q install numpy matplotlib scikit-image imageio"
      ],
      "id": "install"
    },
    {
      "cell_type": "code",
      "metadata": {
        "id": "imports"
      },
      "execution_count": 9,
      "outputs": [],
      "source": [
        "import os, math\n",
        "import numpy as np\n",
        "import matplotlib.pyplot as plt\n",
        "from skimage import io, color, img_as_ubyte\n",
        "from skimage.transform import resize\n",
        "from skimage import data\n",
        "from skimage.transform import resize as sk_resize\n",
        "\n",
        "os.makedirs('data', exist_ok=True)\n",
        "plt.rcParams['figure.dpi'] = 120"
      ],
      "id": "imports"
    },
    {
      "cell_type": "markdown",
      "metadata": {
        "id": "LmfSrpQW4hrj"
      },
      "source": [
        "## 1) Utilitários\n",
        "- Leitura sempre em **grayscale** (2D) quando desejado.\n",
        "- Cálculo de **PSNR** para avaliar perda de qualidade devido à quantização e reamostragem.\n",
        "- Visualização lado a lado."
      ],
      "id": "LmfSrpQW4hrj"
    },
    {
      "cell_type": "code",
      "metadata": {
        "id": "utils"
      },
      "execution_count": 2,
      "outputs": [],
      "source": [
        "def read_gray(path):\n",
        "    img = io.imread(path)\n",
        "    if img.ndim == 3:\n",
        "        img = color.rgb2gray(img)  # float64 [0,1]\n",
        "    img = img.astype(np.float32)   # passa para float32\n",
        "    return img\n",
        "\n",
        "def psnr(x, y, data_range=1.0):  # calcula a qualidade da imagem em comparação com outra\n",
        "    x = x.astype(np.float32)\n",
        "    y = y.astype(np.float32)\n",
        "    mse = np.mean((x - y)**2)\n",
        "    if mse == 0:\n",
        "        return float('inf')\n",
        "    return 20 * np.log10(data_range) - 10 * np.log10(mse)\n",
        "\n",
        "def show2(a, b, titles=(\"A\",\"B\"), cmaps=('gray','gray')):\n",
        "    fig, axs = plt.subplots(1,2, figsize=(8,3))\n",
        "    axs[0].imshow(a, cmap=cmaps[0]); axs[0].set_title(titles[0]); axs[0].axis('off')\n",
        "    axs[1].imshow(b, cmap=cmaps[1]); axs[1].set_title(titles[1]); axs[1].axis('off')\n",
        "    plt.show()"
      ],
      "id": "utils"
    },
    {
      "cell_type": "markdown",
      "metadata": {
        "id": "7AmACkXE4hrj"
      },
      "source": [
        "## 2) Dados de exemplo\n",
        "Usaremos `camera` como imagem base (grayscale)."
      ],
      "id": "7AmACkXE4hrj"
    },
    {
      "cell_type": "code",
      "metadata": {
        "id": "data_demo"
      },
      "execution_count": null,
      "outputs": [],
      "source": [
        "img0 = data.camera().astype(np.float32) / 255.0\n",
        "io.imsave('data/camera.png', img_as_ubyte(img0))\n",
        "plt.imshow(img0, cmap='gray'); plt.title('camera [0..1]'); plt.axis('off'); plt.show()\n",
        "print('shape:', img0.shape, 'dtype:', img0.dtype)"
      ],
      "id": "data_demo"
    },
    {
      "cell_type": "markdown",
      "metadata": {
        "id": "YdW04m8N4hrj"
      },
      "source": [
        "## 3) Amostragem (downsampling) e anti-aliasing\n",
        "A redução de resolução pode causar **aliasing**. Uma prática comum é **suavizar** (filtro passa-baixas) antes de dizimar.\n",
        "\n",
        "Abaixo implementamos downsampling simples e com anti-aliasing (Gaussiano)."
      ],
      "id": "YdW04m8N4hrj"
    },
    {
      "cell_type": "code",
      "metadata": {
        "id": "sampling"
      },
      "execution_count": null,
      "outputs": [],
      "source": [
        "from scipy.ndimage import gaussian_filter\n",
        "\n",
        "def downsample(img, factor, anti_alias=False, sigma=1.0):\n",
        "    x = img\n",
        "    if anti_alias:\n",
        "        x = gaussian_filter(x, sigma=sigma)\n",
        "    out = x[::factor, ::factor]\n",
        "    return out\n",
        "\n",
        "small_na = downsample(img0, factor=4, anti_alias=False)\n",
        "small_aa = downsample(img0, factor=4, anti_alias=True, sigma=1.0)\n",
        "show2(small_na, small_aa, (\"Sem AA (×1/4)\", \"Com AA (×1/4)\"))"
      ],
      "id": "sampling"
    },
    {
      "cell_type": "markdown",
      "metadata": {
        "id": "D-i1rbt84hrk"
      },
      "source": [
        "### Exercício A — Anti-aliasing\n",
        "1. Experimente `factor = 2, 4, 8` e valores de `sigma` diferentes (ex.: 0.5, 1.0, 1.5).\n",
        "2. Reamplie as imagens reduzidas usando **interpolação bilinear** e compare visualmente com a original.\n",
        "3. Calcule o **PSNR** entre a imagem original e a reamostrada (mesmo tamanho) para diferentes configurações."
      ],
      "id": "D-i1rbt84hrk"
    },
    {
      "cell_type": "markdown",
      "metadata": {
        "id": "bRddg3Od4hrk"
      },
      "source": [
        "## 4) Quantização (redução de níveis / bit-depth)\n",
        "A quantização reduz o número de níveis radiométricos. Testaremos **quantização uniforme** e avaliaremos **PSNR**."
      ],
      "id": "bRddg3Od4hrk"
    },
    {
      "cell_type": "code",
      "metadata": {
        "id": "quant"
      },
      "execution_count": null,
      "outputs": [],
      "source": [
        "def quantize_uniform(img, bits=4):\n",
        "    levels = 2 ** bits\n",
        "    # mapeia [0,1] para [0, levels-1], arredonda e volta para [0,1]\n",
        "    q = np.round(img * (levels - 1)) / (levels - 1)\n",
        "    return q.astype(np.float32)\n",
        "\n",
        "q2 = quantize_uniform(img0, bits=2)\n",
        "q4 = quantize_uniform(img0, bits=4)\n",
        "q6 = quantize_uniform(img0, bits=6)\n",
        "\n",
        "fig, axs = plt.subplots(1,3, figsize=(11,3))\n",
        "for ax, im, b in zip(axs, [q2, q4, q6], [2,4,6]):\n",
        "    ax.imshow(im, cmap='gray'); ax.set_title(f'{b} bits\\nPSNR={psnr(img0, im):.2f} dB'); ax.axis('off')\n",
        "plt.show()"
      ],
      "id": "quant"
    },
    {
      "cell_type": "markdown",
      "metadata": {
        "id": "Rr0riJY34hrk"
      },
      "source": [
        "### Exercício B — Posteirização\n",
        "1. Crie uma função que **plote o histograma** de intensidades da imagem quantizada.\n",
        "2. Compare visualmente e via PSNR quantizações com **2, 3, 4, 6 e 8 bits**."
      ],
      "id": "Rr0riJY34hrk"
    },
    {
      "cell_type": "markdown",
      "metadata": {
        "id": "BDEJLfhM4hrk"
      },
      "source": [
        "## 5) Interpolação — NN e Bilinear (implementação do zero)\n",
        "A seguir, reimplementamos os interpoladores de **vizinho mais próximo** e **bilinear** para praticar o mapeamento de coordenadas."
      ],
      "id": "BDEJLfhM4hrk"
    },
    {
      "cell_type": "code",
      "metadata": {
        "id": "interp_nn"
      },
      "execution_count": 6,
      "outputs": [],
      "source": [
        "def resize_nn(img, sx, sy):\n",
        "    h_in, w_in = img.shape\n",
        "    h_out = int(round(h_in * sy))\n",
        "    w_out = int(round(w_in * sx))\n",
        "    out = np.zeros((h_out, w_out), dtype=img.dtype)\n",
        "    ys = np.arange(h_out)\n",
        "    xs = np.arange(w_out)\n",
        "    y_src = (ys + 0.5) / sy - 0.5\n",
        "    x_src = (xs + 0.5) / sx - 0.5\n",
        "    y_nn = np.clip(np.round(y_src).astype(int), 0, h_in - 1)\n",
        "    x_nn = np.clip(np.round(x_src).astype(int), 0, w_in - 1)\n",
        "    for j_out, j_in in enumerate(y_nn):\n",
        "        out[j_out, :] = img[j_in, x_nn]\n",
        "    return out"
      ],
      "id": "interp_nn"
    },
    {
      "cell_type": "code",
      "metadata": {
        "id": "interp_bilinear"
      },
      "execution_count": 7,
      "outputs": [],
      "source": [
        "def resize_bilinear(img, sx, sy):\n",
        "    h_in, w_in = img.shape\n",
        "    h_out = int(round(h_in * sy))\n",
        "    w_out = int(round(w_in * sx))\n",
        "    ys = np.arange(h_out)\n",
        "    xs = np.arange(w_out)\n",
        "    y_src = (ys + 0.5) / sy - 0.5\n",
        "    x_src = (xs + 0.5) / sx - 0.5\n",
        "    y0 = np.floor(y_src).astype(int)\n",
        "    x0 = np.floor(x_src).astype(int)\n",
        "    y1 = np.clip(y0 + 1, 0, h_in - 1)\n",
        "    x1 = np.clip(x0 + 1, 0, w_in - 1)\n",
        "    wy = (y_src - y0).reshape(-1, 1)\n",
        "    wx = (x_src - x0).reshape(1, -1)\n",
        "    y0 = np.clip(y0, 0, h_in - 1)\n",
        "    x0 = np.clip(x0, 0, w_in - 1)\n",
        "    I00 = img[y0[:, None], x0[None, :]]\n",
        "    I01 = img[y0[:, None], x1[None, :]]\n",
        "    I10 = img[y1[:, None], x0[None, :]]\n",
        "    I11 = img[y1[:, None], x1[None, :]]\n",
        "    out = (1 - wy) * (1 - wx) * I00 + (1 - wy) * wx * I01 + wy * (1 - wx) * I10 + wy * wx * I11\n",
        "    return out.astype(np.float32)"
      ],
      "id": "interp_bilinear"
    },
    {
      "cell_type": "markdown",
      "metadata": {
        "id": "pr2zsV2r4hrl"
      },
      "source": [
        "### Exercício C — Interpoladores\n",
        "1. Crie uma função `redimensionar(arquivo, tipo, sx, sy)` que use `resize_nn` se `tipo==1` e `resize_bilinear` se `tipo==2`.\n",
        "2. Compare NN e bilinear para ampliações **2×, 3× e 4×** (mesmo arquivo base). Discuta aliasing e suavização.\n",
        "3. Use `skimage.transform.resize(..., order=3)` como referência bicúbica e compare resultados.\n",
        "4. Calcule o **PSNR** entre a imagem reamostrada e a reamostrada de volta ao tamanho original (pipeline down→up)."
      ],
      "id": "pr2zsV2r4hrl"
    },
    {
      "cell_type": "code",
      "source": [],
      "metadata": {
        "id": "Itm9in7cGy7h"
      },
      "id": "Itm9in7cGy7h",
      "execution_count": null,
      "outputs": []
    }
  ],
  "metadata": {
    "kernelspec": {
      "display_name": "Python 3",
      "language": "python",
      "name": "python3"
    },
    "language_info": {
      "name": "python",
      "version": "3.11"
    },
    "colab": {
      "provenance": [],
      "include_colab_link": true
    }
  },
  "nbformat": 4,
  "nbformat_minor": 5
}